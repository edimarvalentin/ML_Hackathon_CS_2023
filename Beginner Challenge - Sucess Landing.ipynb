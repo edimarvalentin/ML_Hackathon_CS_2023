{
 "cells": [
  {
   "cell_type": "markdown",
   "id": "02c1c42e",
   "metadata": {},
   "source": [
    "# Space Mission Challenge - IEEE Hackathonn 2023\n",
    "## Pumping Lemma Submission \n",
    "\n",
    "The year is 2030, a team of space enthusiasts launched a mission to explorea distant planet in a far-off galaxy. \n",
    "\n",
    "The mission was a challenging one, and the team had to overcome several obstacles to make it a success.\n",
    "\n",
    "This event is about analyzing the data from the mission to determine its success rate and building an autonomous system for the spaceship."
   ]
  },
  {
   "cell_type": "markdown",
   "id": "3b678bee",
   "metadata": {},
   "source": [
    "## Importing libraries"
   ]
  },
  {
   "cell_type": "code",
   "execution_count": 2257,
   "id": "332421a8",
   "metadata": {},
   "outputs": [],
   "source": [
    "import numpy as np\n",
    "import matplotlib.pyplot as plt\n",
    "import pandas as pd\n",
    "import seaborn as sns\n",
    "\n",
    "from sklearn.linear_model import LogisticRegression\n",
    "from sklearn.model_selection import train_test_split\n",
    "from sklearn.metrics import classification_report\n",
    "\n",
    "%matplotlib inline\n",
    "sns.set()\n"
   ]
  },
  {
   "cell_type": "code",
   "execution_count": 2258,
   "id": "ccc637cd",
   "metadata": {},
   "outputs": [],
   "source": [
    "flights = pd.read_csv('synthetic_space_dataset.csv')"
   ]
  },
  {
   "cell_type": "markdown",
   "id": "181a5dd6",
   "metadata": {},
   "source": [
    "## Sample Data"
   ]
  },
  {
   "cell_type": "code",
   "execution_count": 2259,
   "id": "9344464b",
   "metadata": {},
   "outputs": [
    {
     "data": {
      "text/html": [
       "<div>\n",
       "<style scoped>\n",
       "    .dataframe tbody tr th:only-of-type {\n",
       "        vertical-align: middle;\n",
       "    }\n",
       "\n",
       "    .dataframe tbody tr th {\n",
       "        vertical-align: top;\n",
       "    }\n",
       "\n",
       "    .dataframe thead th {\n",
       "        text-align: right;\n",
       "    }\n",
       "</style>\n",
       "<table border=\"1\" class=\"dataframe\">\n",
       "  <thead>\n",
       "    <tr style=\"text-align: right;\">\n",
       "      <th></th>\n",
       "      <th>ship_id</th>\n",
       "      <th>launch_year</th>\n",
       "      <th>mission_duration_days</th>\n",
       "      <th>distance_to_planet_km</th>\n",
       "      <th>planet_gravity_m_s2</th>\n",
       "      <th>landing_latitude</th>\n",
       "      <th>landing_longitude</th>\n",
       "      <th>initial_speed_m_s</th>\n",
       "      <th>final_speed_m_s</th>\n",
       "      <th>fuel_consumption_kg</th>\n",
       "      <th>...</th>\n",
       "      <th>energy_capacity_kWh</th>\n",
       "      <th>communication_frequency_GHz</th>\n",
       "      <th>max_altitude_km</th>\n",
       "      <th>parachute_count</th>\n",
       "      <th>parachute_area_m2</th>\n",
       "      <th>heat_shield_material_id</th>\n",
       "      <th>heat_shield_thickness_cm</th>\n",
       "      <th>lander_leg_count</th>\n",
       "      <th>lander_leg_length_m</th>\n",
       "      <th>success_landing</th>\n",
       "    </tr>\n",
       "  </thead>\n",
       "  <tbody>\n",
       "    <tr>\n",
       "      <th>17032</th>\n",
       "      <td>58</td>\n",
       "      <td>2029</td>\n",
       "      <td>281</td>\n",
       "      <td>1.181665e+06</td>\n",
       "      <td>27.983452</td>\n",
       "      <td>20</td>\n",
       "      <td>-126</td>\n",
       "      <td>22440</td>\n",
       "      <td>312</td>\n",
       "      <td>9449</td>\n",
       "      <td>...</td>\n",
       "      <td>6294</td>\n",
       "      <td>21</td>\n",
       "      <td>61</td>\n",
       "      <td>0</td>\n",
       "      <td>146</td>\n",
       "      <td>9</td>\n",
       "      <td>1</td>\n",
       "      <td>4</td>\n",
       "      <td>1</td>\n",
       "      <td>True</td>\n",
       "    </tr>\n",
       "    <tr>\n",
       "      <th>34690</th>\n",
       "      <td>28</td>\n",
       "      <td>2021</td>\n",
       "      <td>43</td>\n",
       "      <td>6.148911e+07</td>\n",
       "      <td>32.701094</td>\n",
       "      <td>-69</td>\n",
       "      <td>161</td>\n",
       "      <td>15425</td>\n",
       "      <td>128</td>\n",
       "      <td>1477</td>\n",
       "      <td>...</td>\n",
       "      <td>8311</td>\n",
       "      <td>9</td>\n",
       "      <td>130</td>\n",
       "      <td>2</td>\n",
       "      <td>86</td>\n",
       "      <td>6</td>\n",
       "      <td>4</td>\n",
       "      <td>4</td>\n",
       "      <td>1</td>\n",
       "      <td>False</td>\n",
       "    </tr>\n",
       "    <tr>\n",
       "      <th>19076</th>\n",
       "      <td>92</td>\n",
       "      <td>2023</td>\n",
       "      <td>440</td>\n",
       "      <td>4.103493e+08</td>\n",
       "      <td>40.444924</td>\n",
       "      <td>-42</td>\n",
       "      <td>-25</td>\n",
       "      <td>33495</td>\n",
       "      <td>114</td>\n",
       "      <td>8979</td>\n",
       "      <td>...</td>\n",
       "      <td>8949</td>\n",
       "      <td>5</td>\n",
       "      <td>96</td>\n",
       "      <td>0</td>\n",
       "      <td>48</td>\n",
       "      <td>8</td>\n",
       "      <td>4</td>\n",
       "      <td>4</td>\n",
       "      <td>4</td>\n",
       "      <td>False</td>\n",
       "    </tr>\n",
       "    <tr>\n",
       "      <th>41461</th>\n",
       "      <td>38</td>\n",
       "      <td>2026</td>\n",
       "      <td>406</td>\n",
       "      <td>3.598305e+07</td>\n",
       "      <td>33.964423</td>\n",
       "      <td>54</td>\n",
       "      <td>74</td>\n",
       "      <td>44929</td>\n",
       "      <td>17</td>\n",
       "      <td>7168</td>\n",
       "      <td>...</td>\n",
       "      <td>6015</td>\n",
       "      <td>9</td>\n",
       "      <td>111</td>\n",
       "      <td>3</td>\n",
       "      <td>74</td>\n",
       "      <td>2</td>\n",
       "      <td>19</td>\n",
       "      <td>4</td>\n",
       "      <td>2</td>\n",
       "      <td>True</td>\n",
       "    </tr>\n",
       "    <tr>\n",
       "      <th>36651</th>\n",
       "      <td>53</td>\n",
       "      <td>2021</td>\n",
       "      <td>379</td>\n",
       "      <td>1.060480e+08</td>\n",
       "      <td>46.423743</td>\n",
       "      <td>-87</td>\n",
       "      <td>94</td>\n",
       "      <td>24226</td>\n",
       "      <td>157</td>\n",
       "      <td>3662</td>\n",
       "      <td>...</td>\n",
       "      <td>7727</td>\n",
       "      <td>21</td>\n",
       "      <td>91</td>\n",
       "      <td>2</td>\n",
       "      <td>149</td>\n",
       "      <td>6</td>\n",
       "      <td>16</td>\n",
       "      <td>4</td>\n",
       "      <td>2</td>\n",
       "      <td>True</td>\n",
       "    </tr>\n",
       "  </tbody>\n",
       "</table>\n",
       "<p>5 rows × 25 columns</p>\n",
       "</div>"
      ],
      "text/plain": [
       "       ship_id  launch_year  mission_duration_days  distance_to_planet_km  \\\n",
       "17032       58         2029                    281           1.181665e+06   \n",
       "34690       28         2021                     43           6.148911e+07   \n",
       "19076       92         2023                    440           4.103493e+08   \n",
       "41461       38         2026                    406           3.598305e+07   \n",
       "36651       53         2021                    379           1.060480e+08   \n",
       "\n",
       "       planet_gravity_m_s2  landing_latitude  landing_longitude  \\\n",
       "17032            27.983452                20               -126   \n",
       "34690            32.701094               -69                161   \n",
       "19076            40.444924               -42                -25   \n",
       "41461            33.964423                54                 74   \n",
       "36651            46.423743               -87                 94   \n",
       "\n",
       "       initial_speed_m_s  final_speed_m_s  fuel_consumption_kg  ...  \\\n",
       "17032              22440              312                 9449  ...   \n",
       "34690              15425              128                 1477  ...   \n",
       "19076              33495              114                 8979  ...   \n",
       "41461              44929               17                 7168  ...   \n",
       "36651              24226              157                 3662  ...   \n",
       "\n",
       "       energy_capacity_kWh  communication_frequency_GHz  max_altitude_km  \\\n",
       "17032                 6294                           21               61   \n",
       "34690                 8311                            9              130   \n",
       "19076                 8949                            5               96   \n",
       "41461                 6015                            9              111   \n",
       "36651                 7727                           21               91   \n",
       "\n",
       "       parachute_count  parachute_area_m2  heat_shield_material_id  \\\n",
       "17032                0                146                        9   \n",
       "34690                2                 86                        6   \n",
       "19076                0                 48                        8   \n",
       "41461                3                 74                        2   \n",
       "36651                2                149                        6   \n",
       "\n",
       "       heat_shield_thickness_cm  lander_leg_count  lander_leg_length_m  \\\n",
       "17032                         1                 4                    1   \n",
       "34690                         4                 4                    1   \n",
       "19076                         4                 4                    4   \n",
       "41461                        19                 4                    2   \n",
       "36651                        16                 4                    2   \n",
       "\n",
       "       success_landing  \n",
       "17032             True  \n",
       "34690            False  \n",
       "19076            False  \n",
       "41461             True  \n",
       "36651             True  \n",
       "\n",
       "[5 rows x 25 columns]"
      ]
     },
     "execution_count": 2259,
     "metadata": {},
     "output_type": "execute_result"
    }
   ],
   "source": [
    "flights.sample(5)"
   ]
  },
  {
   "cell_type": "markdown",
   "id": "c3dc80c6",
   "metadata": {},
   "source": [
    "## Info about the data\n"
   ]
  },
  {
   "cell_type": "code",
   "execution_count": 2260,
   "id": "85153583",
   "metadata": {},
   "outputs": [
    {
     "name": "stdout",
     "output_type": "stream",
     "text": [
      "<class 'pandas.core.frame.DataFrame'>\n",
      "RangeIndex: 60000 entries, 0 to 59999\n",
      "Data columns (total 25 columns):\n",
      " #   Column                       Non-Null Count  Dtype  \n",
      "---  ------                       --------------  -----  \n",
      " 0   ship_id                      60000 non-null  int64  \n",
      " 1   launch_year                  60000 non-null  int64  \n",
      " 2   mission_duration_days        60000 non-null  int64  \n",
      " 3   distance_to_planet_km        60000 non-null  float64\n",
      " 4   planet_gravity_m_s2          60000 non-null  float64\n",
      " 5   landing_latitude             60000 non-null  int64  \n",
      " 6   landing_longitude            60000 non-null  int64  \n",
      " 7   initial_speed_m_s            60000 non-null  int64  \n",
      " 8   final_speed_m_s              60000 non-null  int64  \n",
      " 9   fuel_consumption_kg          60000 non-null  int64  \n",
      " 10  crew_size                    60000 non-null  int64  \n",
      " 11  total_weight_kg              60000 non-null  int64  \n",
      " 12  engine_thrust_N              60000 non-null  float64\n",
      " 13  engine_count                 60000 non-null  int64  \n",
      " 14  solar_panels_count           60000 non-null  int64  \n",
      " 15  energy_capacity_kWh          60000 non-null  int64  \n",
      " 16  communication_frequency_GHz  60000 non-null  int64  \n",
      " 17  max_altitude_km              60000 non-null  int64  \n",
      " 18  parachute_count              60000 non-null  int64  \n",
      " 19  parachute_area_m2            60000 non-null  int64  \n",
      " 20  heat_shield_material_id      60000 non-null  int64  \n",
      " 21  heat_shield_thickness_cm     60000 non-null  int64  \n",
      " 22  lander_leg_count             60000 non-null  int64  \n",
      " 23  lander_leg_length_m          60000 non-null  int64  \n",
      " 24  success_landing              60000 non-null  bool   \n",
      "dtypes: bool(1), float64(3), int64(21)\n",
      "memory usage: 11.0 MB\n"
     ]
    }
   ],
   "source": [
    "flights.info()"
   ]
  },
  {
   "cell_type": "markdown",
   "id": "6192727e",
   "metadata": {},
   "source": [
    "## Exploratory Data Analysis\n",
    "\n",
    "### Bad Landings vs Good Landings \n",
    "For this problem is useful to know how the ratio between successful landings vs unsuccessful landings"
   ]
  },
  {
   "cell_type": "code",
   "execution_count": 2261,
   "id": "00d44856",
   "metadata": {},
   "outputs": [
    {
     "data": {
      "text/plain": [
       "<AxesSubplot:xlabel='success_landing', ylabel='count'>"
      ]
     },
     "execution_count": 2261,
     "metadata": {},
     "output_type": "execute_result"
    },
    {
     "data": {
      "image/png": "[encoded data removed]",
      "text/plain": [
       "<Figure size 432x288 with 1 Axes>"
      ]
     },
     "metadata": {},
     "output_type": "display_data"
    }
   ],
   "source": [
    "sns.countplot(x='success_landing', data=flights)"
   ]
  },
  {
   "cell_type": "markdown",
   "id": "004e56a5",
   "metadata": {},
   "source": [
    "A somewhat 2 to 1 ratio "
   ]
  },
  {
   "cell_type": "markdown",
   "id": "b6bd8da7",
   "metadata": {},
   "source": [
    "### The relation to that with crew size?"
   ]
  },
  {
   "cell_type": "code",
   "execution_count": 2262,
   "id": "3b02ea33",
   "metadata": {},
   "outputs": [
    {
     "data": {
      "text/plain": [
       "<AxesSubplot:xlabel='success_landing', ylabel='count'>"
      ]
     },
     "execution_count": 2262,
     "metadata": {},
     "output_type": "execute_result"
    },
    {
     "data": {
      "image/png": "[encoded data removed]",
      "text/plain": [
       "<Figure size 432x288 with 1 Axes>"
      ]
     },
     "metadata": {},
     "output_type": "display_data"
    }
   ],
   "source": [
    "sns.countplot(x='success_landing',hue='crew_size',data=flights)"
   ]
  },
  {
   "cell_type": "markdown",
   "id": "f11a707b",
   "metadata": {},
   "source": [
    "It seems the size of the crew really does not matter much. Consider dropping crew size from the training"
   ]
  },
  {
   "cell_type": "markdown",
   "id": "3feb7d0c",
   "metadata": {},
   "source": [
    "### Do solar panels matter?"
   ]
  },
  {
   "cell_type": "code",
   "execution_count": 2263,
   "id": "45daaccd",
   "metadata": {},
   "outputs": [
    {
     "data": {
      "text/plain": [
       "<AxesSubplot:xlabel='success_landing', ylabel='count'>"
      ]
     },
     "execution_count": 2263,
     "metadata": {},
     "output_type": "execute_result"
    },
    {
     "data": {
      "image/png": "[encoded data removed]",
      "text/plain": [
       "<Figure size 432x288 with 1 Axes>"
      ]
     },
     "metadata": {},
     "output_type": "display_data"
    }
   ],
   "source": [
    "sns.countplot(x='success_landing',hue='solar_panels_count',data=flights)"
   ]
  },
  {
   "cell_type": "markdown",
   "id": "0d354bd4",
   "metadata": {},
   "source": [
    "Solar panels do no impact the landing. Consider dropping from the training"
   ]
  },
  {
   "cell_type": "markdown",
   "id": "1d87c31f",
   "metadata": {},
   "source": [
    "### Does the engine count matters?"
   ]
  },
  {
   "cell_type": "code",
   "execution_count": 2264,
   "id": "bd23bf3d",
   "metadata": {
    "scrolled": true
   },
   "outputs": [
    {
     "data": {
      "text/plain": [
       "<AxesSubplot:xlabel='success_landing', ylabel='count'>"
      ]
     },
     "execution_count": 2264,
     "metadata": {},
     "output_type": "execute_result"
    },
    {
     "data": {
      "image/png": "[encoded data removed]",
      "text/plain": [
       "<Figure size 432x288 with 1 Axes>"
      ]
     },
     "metadata": {},
     "output_type": "display_data"
    }
   ],
   "source": [
    "sns.countplot(x='success_landing',hue='engine_count',data=flights)"
   ]
  },
  {
   "cell_type": "markdown",
   "id": "9efd564e",
   "metadata": {},
   "source": [
    "Engine count does not matter. Consider dropping from training"
   ]
  },
  {
   "cell_type": "markdown",
   "id": "743854bf",
   "metadata": {},
   "source": [
    "### More parachutes, I guess?"
   ]
  },
  {
   "cell_type": "code",
   "execution_count": 2265,
   "id": "b780128d",
   "metadata": {},
   "outputs": [
    {
     "data": {
      "text/plain": [
       "<AxesSubplot:xlabel='success_landing', ylabel='count'>"
      ]
     },
     "execution_count": 2265,
     "metadata": {},
     "output_type": "execute_result"
    },
    {
     "data": {
      "image/png": "[encoded data removed]",
      "text/plain": [
       "<Figure size 432x288 with 1 Axes>"
      ]
     },
     "metadata": {},
     "output_type": "display_data"
    }
   ],
   "source": [
    "sns.countplot(x='success_landing',hue='parachute_count',data=flights)"
   ]
  },
  {
   "cell_type": "markdown",
   "id": "7c1c795b",
   "metadata": {},
   "source": [
    "Nope, not at all..."
   ]
  },
  {
   "cell_type": "markdown",
   "id": "b2d5828d",
   "metadata": {},
   "source": [
    "### What about lander legs?! Does are definitely important!"
   ]
  },
  {
   "cell_type": "code",
   "execution_count": 2266,
   "id": "59595499",
   "metadata": {
    "scrolled": true
   },
   "outputs": [
    {
     "data": {
      "text/plain": [
       "<AxesSubplot:xlabel='success_landing', ylabel='count'>"
      ]
     },
     "execution_count": 2266,
     "metadata": {},
     "output_type": "execute_result"
    },
    {
     "data": {
      "image/png": "[encoded data removed]",
      "text/plain": [
       "<Figure size 432x288 with 1 Axes>"
      ]
     },
     "metadata": {},
     "output_type": "display_data"
    }
   ],
   "source": [
    "sns.countplot(x='success_landing',hue='lander_leg_count',data=flights)"
   ]
  },
  {
   "cell_type": "markdown",
   "id": "b29334a3",
   "metadata": {},
   "source": [
    "HAHAHAHHAHAHAHA NAAAAAAAHH"
   ]
  },
  {
   "cell_type": "markdown",
   "id": "edebd776",
   "metadata": {},
   "source": [
    "### What about the launch year?"
   ]
  },
  {
   "cell_type": "code",
   "execution_count": 2267,
   "id": "c20be90e",
   "metadata": {},
   "outputs": [
    {
     "data": {
      "text/plain": [
       "<AxesSubplot:xlabel='success_landing', ylabel='count'>"
      ]
     },
     "execution_count": 2267,
     "metadata": {},
     "output_type": "execute_result"
    },
    {
     "data": {
      "image/png": "[encoded data removed]",
      "text/plain": [
       "<Figure size 432x288 with 1 Axes>"
      ]
     },
     "metadata": {},
     "output_type": "display_data"
    }
   ],
   "source": [
    "sns.countplot(x='success_landing',hue='launch_year',data=flights)"
   ]
  },
  {
   "cell_type": "markdown",
   "id": "ebc3aaa9",
   "metadata": {},
   "source": [
    "### Heat shield material ID?"
   ]
  },
  {
   "cell_type": "code",
   "execution_count": 2268,
   "id": "5bda6cbe",
   "metadata": {},
   "outputs": [
    {
     "data": {
      "text/plain": [
       "<AxesSubplot:xlabel='success_landing', ylabel='count'>"
      ]
     },
     "execution_count": 2268,
     "metadata": {},
     "output_type": "execute_result"
    },
    {
     "data": {
      "image/png": "[encoded data removed]",
      "text/plain": [
       "<Figure size 432x288 with 1 Axes>"
      ]
     },
     "metadata": {},
     "output_type": "display_data"
    }
   ],
   "source": [
    "sns.countplot(x='success_landing',hue='heat_shield_material_id',data=flights)"
   ]
  },
  {
   "cell_type": "markdown",
   "id": "109d8951",
   "metadata": {},
   "source": [
    "All seems normal"
   ]
  },
  {
   "cell_type": "markdown",
   "id": "1f0d8b1d",
   "metadata": {},
   "source": [
    "### Time to go with the big numbers\n",
    "### Do landing speed has an effect?"
   ]
  },
  {
   "cell_type": "code",
   "execution_count": 2269,
   "id": "7a24468c",
   "metadata": {
    "scrolled": true
   },
   "outputs": [
    {
     "data": {
      "text/plain": [
       "<AxesSubplot:xlabel='success_landing', ylabel='final_speed_m_s'>"
      ]
     },
     "execution_count": 2269,
     "metadata": {},
     "output_type": "execute_result"
    },
    {
     "data": {
      "image/png": "[encoded data removed]",
      "text/plain": [
       "<Figure size 432x288 with 1 Axes>"
      ]
     },
     "metadata": {},
     "output_type": "display_data"
    }
   ],
   "source": [
    "sns.boxplot(x=flights['success_landing'], y=flights['final_speed_m_s'])"
   ]
  },
  {
   "cell_type": "markdown",
   "id": "54fc4c84",
   "metadata": {},
   "source": [
    "Nearly identicial 1:1 ratio. Final speed seems not like a factor. "
   ]
  },
  {
   "cell_type": "markdown",
   "id": "2c76c423",
   "metadata": {},
   "source": [
    "### Initial Speed?"
   ]
  },
  {
   "cell_type": "code",
   "execution_count": 2270,
   "id": "bc707699",
   "metadata": {},
   "outputs": [
    {
     "data": {
      "text/plain": [
       "<AxesSubplot:xlabel='success_landing', ylabel='initial_speed_m_s'>"
      ]
     },
     "execution_count": 2270,
     "metadata": {},
     "output_type": "execute_result"
    },
    {
     "data": {
      "image/png": "[encoded data removed]",
      "text/plain": [
       "<Figure size 432x288 with 1 Axes>"
      ]
     },
     "metadata": {},
     "output_type": "display_data"
    }
   ],
   "source": [
    "sns.boxplot(x=flights['success_landing'], y=flights['initial_speed_m_s'])"
   ]
  },
  {
   "cell_type": "markdown",
   "id": "a4371cee",
   "metadata": {},
   "source": [
    "Same story."
   ]
  },
  {
   "cell_type": "markdown",
   "id": "20459396",
   "metadata": {},
   "source": [
    "### Total weight?"
   ]
  },
  {
   "cell_type": "code",
   "execution_count": 2271,
   "id": "d7ceb6b1",
   "metadata": {},
   "outputs": [
    {
     "data": {
      "text/plain": [
       "<AxesSubplot:xlabel='success_landing', ylabel='total_weight_kg'>"
      ]
     },
     "execution_count": 2271,
     "metadata": {},
     "output_type": "execute_result"
    },
    {
     "data": {
      "image/png": "[encoded data removed]",
      "text/plain": [
       "<Figure size 432x288 with 1 Axes>"
      ]
     },
     "metadata": {},
     "output_type": "display_data"
    }
   ],
   "source": [
    "sns.boxplot(x=flights['success_landing'], y=flights['total_weight_kg'])"
   ]
  },
  {
   "cell_type": "markdown",
   "id": "64af21b2",
   "metadata": {},
   "source": [
    "Total wegiht is fine."
   ]
  },
  {
   "cell_type": "markdown",
   "id": "1733fcf3",
   "metadata": {},
   "source": [
    "### Landing latitude?"
   ]
  },
  {
   "cell_type": "code",
   "execution_count": 2272,
   "id": "6eeb27a1",
   "metadata": {
    "scrolled": true
   },
   "outputs": [
    {
     "data": {
      "text/plain": [
       "<AxesSubplot:xlabel='success_landing', ylabel='landing_latitude'>"
      ]
     },
     "execution_count": 2272,
     "metadata": {},
     "output_type": "execute_result"
    },
    {
     "data": {
      "image/png": "[encoded data removed]",
      "text/plain": [
       "<Figure size 432x288 with 1 Axes>"
      ]
     },
     "metadata": {},
     "output_type": "display_data"
    }
   ],
   "source": [
    "sns.boxplot(x=flights['success_landing'], y=flights['landing_latitude'])"
   ]
  },
  {
   "cell_type": "markdown",
   "id": "7a926383",
   "metadata": {},
   "source": [
    "Latitude is fine."
   ]
  },
  {
   "cell_type": "markdown",
   "id": "d0a2fa69",
   "metadata": {},
   "source": [
    "### Longitude maybe?"
   ]
  },
  {
   "cell_type": "code",
   "execution_count": 2273,
   "id": "35a39207",
   "metadata": {
    "scrolled": false
   },
   "outputs": [
    {
     "data": {
      "text/plain": [
       "<AxesSubplot:xlabel='success_landing', ylabel='landing_longitude'>"
      ]
     },
     "execution_count": 2273,
     "metadata": {},
     "output_type": "execute_result"
    },
    {
     "data": {
      "image/png": "[encoded data removed]",
      "text/plain": [
       "<Figure size 432x288 with 1 Axes>"
      ]
     },
     "metadata": {},
     "output_type": "display_data"
    }
   ],
   "source": [
    "sns.boxplot(x=flights['success_landing'], y=flights['landing_longitude'])"
   ]
  },
  {
   "cell_type": "markdown",
   "id": "b1b95165",
   "metadata": {},
   "source": [
    "Longitude is fine."
   ]
  },
  {
   "cell_type": "markdown",
   "id": "1ece89c4",
   "metadata": {},
   "source": [
    "### Mission duration?"
   ]
  },
  {
   "cell_type": "code",
   "execution_count": 2274,
   "id": "18854331",
   "metadata": {},
   "outputs": [
    {
     "data": {
      "text/plain": [
       "<AxesSubplot:xlabel='success_landing', ylabel='mission_duration_days'>"
      ]
     },
     "execution_count": 2274,
     "metadata": {},
     "output_type": "execute_result"
    },
    {
     "data": {
      "image/png": "[encoded data removed]",
      "text/plain": [
       "<Figure size 432x288 with 1 Axes>"
      ]
     },
     "metadata": {},
     "output_type": "display_data"
    }
   ],
   "source": [
    "sns.boxplot(x=flights['success_landing'], y=flights['mission_duration_days'])"
   ]
  },
  {
   "cell_type": "markdown",
   "id": "2391eaaa",
   "metadata": {},
   "source": [
    "Is fine"
   ]
  },
  {
   "cell_type": "markdown",
   "id": "e65f3b27",
   "metadata": {},
   "source": [
    "### Engine thrust?"
   ]
  },
  {
   "cell_type": "code",
   "execution_count": 2275,
   "id": "5dc820fd",
   "metadata": {},
   "outputs": [
    {
     "data": {
      "text/plain": [
       "<AxesSubplot:xlabel='success_landing', ylabel='engine_thrust_N'>"
      ]
     },
     "execution_count": 2275,
     "metadata": {},
     "output_type": "execute_result"
    },
    {
     "data": {
      "image/png": "[encoded data removed]",
      "text/plain": [
       "<Figure size 432x288 with 1 Axes>"
      ]
     },
     "metadata": {},
     "output_type": "display_data"
    }
   ],
   "source": [
    "sns.boxplot(x=flights['success_landing'], y=flights['engine_thrust_N'])"
   ]
  },
  {
   "cell_type": "markdown",
   "id": "55febe40",
   "metadata": {},
   "source": [
    "No issue"
   ]
  },
  {
   "cell_type": "markdown",
   "id": "92d791bb",
   "metadata": {},
   "source": [
    "### Distance to planet?"
   ]
  },
  {
   "cell_type": "code",
   "execution_count": 2276,
   "id": "de2c8f0f",
   "metadata": {
    "scrolled": true
   },
   "outputs": [
    {
     "data": {
      "text/plain": [
       "<AxesSubplot:xlabel='success_landing', ylabel='distance_to_planet_km'>"
      ]
     },
     "execution_count": 2276,
     "metadata": {},
     "output_type": "execute_result"
    },
    {
     "data": {
      "image/png": "[encoded data removed]",
      "text/plain": [
       "<Figure size 432x288 with 1 Axes>"
      ]
     },
     "metadata": {},
     "output_type": "display_data"
    }
   ],
   "source": [
    "sns.boxplot(x=flights['success_landing'], y=flights['distance_to_planet_km'])"
   ]
  },
  {
   "cell_type": "markdown",
   "id": "c150cdeb",
   "metadata": {},
   "source": [
    "Ok... No"
   ]
  },
  {
   "cell_type": "markdown",
   "id": "f8cb0c8f",
   "metadata": {},
   "source": [
    "### Planet gravity?"
   ]
  },
  {
   "cell_type": "code",
   "execution_count": 2277,
   "id": "13e920e6",
   "metadata": {
    "scrolled": true
   },
   "outputs": [
    {
     "data": {
      "text/plain": [
       "<AxesSubplot:xlabel='success_landing', ylabel='planet_gravity_m_s2'>"
      ]
     },
     "execution_count": 2277,
     "metadata": {},
     "output_type": "execute_result"
    },
    {
     "data": {
      "image/png": "[encoded data removed]",
      "text/plain": [
       "<Figure size 432x288 with 1 Axes>"
      ]
     },
     "metadata": {},
     "output_type": "display_data"
    }
   ],
   "source": [
    "sns.boxplot(x=flights['success_landing'], y=flights['planet_gravity_m_s2'])"
   ]
  },
  {
   "cell_type": "markdown",
   "id": "7dff7363",
   "metadata": {},
   "source": [
    "Normal, ok"
   ]
  },
  {
   "cell_type": "markdown",
   "id": "346e6300",
   "metadata": {},
   "source": [
    "### Energy capacity?"
   ]
  },
  {
   "cell_type": "code",
   "execution_count": 2278,
   "id": "0b094448",
   "metadata": {
    "scrolled": false
   },
   "outputs": [
    {
     "data": {
      "text/plain": [
       "<AxesSubplot:xlabel='success_landing', ylabel='energy_capacity_kWh'>"
      ]
     },
     "execution_count": 2278,
     "metadata": {},
     "output_type": "execute_result"
    },
    {
     "data": {
      "image/png": "[encoded data removed]",
      "text/plain": [
       "<Figure size 432x288 with 1 Axes>"
      ]
     },
     "metadata": {},
     "output_type": "display_data"
    }
   ],
   "source": [
    "sns.boxplot(x=flights['success_landing'], y=flights['energy_capacity_kWh'])"
   ]
  },
  {
   "cell_type": "markdown",
   "id": "b129127b",
   "metadata": {},
   "source": [
    "Nothing new"
   ]
  },
  {
   "cell_type": "markdown",
   "id": "6f215ed0",
   "metadata": {},
   "source": [
    "### Communication frecuency? "
   ]
  },
  {
   "cell_type": "code",
   "execution_count": 2279,
   "id": "9e68c46c",
   "metadata": {
    "scrolled": false
   },
   "outputs": [
    {
     "data": {
      "text/plain": [
       "<AxesSubplot:xlabel='success_landing', ylabel='communication_frequency_GHz'>"
      ]
     },
     "execution_count": 2279,
     "metadata": {},
     "output_type": "execute_result"
    },
    {
     "data": {
      "image/png": "[encoded data removed]",
      "text/plain": [
       "<Figure size 432x288 with 1 Axes>"
      ]
     },
     "metadata": {},
     "output_type": "display_data"
    }
   ],
   "source": [
    "sns.boxplot(x=flights['success_landing'], y=flights['communication_frequency_GHz'])"
   ]
  },
  {
   "cell_type": "markdown",
   "id": "9cfc8fef",
   "metadata": {},
   "source": [
    "Radio is not a problem"
   ]
  },
  {
   "cell_type": "markdown",
   "id": "9413e418",
   "metadata": {},
   "source": [
    "### Max altitude?"
   ]
  },
  {
   "cell_type": "code",
   "execution_count": 2280,
   "id": "68d2ca62",
   "metadata": {},
   "outputs": [
    {
     "data": {
      "text/plain": [
       "<AxesSubplot:xlabel='success_landing', ylabel='max_altitude_km'>"
      ]
     },
     "execution_count": 2280,
     "metadata": {},
     "output_type": "execute_result"
    },
    {
     "data": {
      "image/png": "[encoded data removed]",
      "text/plain": [
       "<Figure size 432x288 with 1 Axes>"
      ]
     },
     "metadata": {},
     "output_type": "display_data"
    }
   ],
   "source": [
    "sns.boxplot(x=flights['success_landing'], y=flights['max_altitude_km'])"
   ]
  },
  {
   "cell_type": "markdown",
   "id": "a55450c0",
   "metadata": {},
   "source": [
    "The bad landings seems to go a tad higher. "
   ]
  },
  {
   "cell_type": "markdown",
   "id": "0c970727",
   "metadata": {},
   "source": [
    "### Heat shield thickness?"
   ]
  },
  {
   "cell_type": "code",
   "execution_count": 2281,
   "id": "8d515fa5",
   "metadata": {
    "scrolled": false
   },
   "outputs": [
    {
     "data": {
      "text/plain": [
       "<AxesSubplot:xlabel='success_landing', ylabel='heat_shield_thickness_cm'>"
      ]
     },
     "execution_count": 2281,
     "metadata": {},
     "output_type": "execute_result"
    },
    {
     "data": {
      "image/png": "[encoded data removed]",
      "text/plain": [
       "<Figure size 432x288 with 1 Axes>"
      ]
     },
     "metadata": {},
     "output_type": "display_data"
    }
   ],
   "source": [
    "sns.boxplot(x=flights['success_landing'], y=flights['heat_shield_thickness_cm'])"
   ]
  },
  {
   "cell_type": "markdown",
   "id": "34f74d5e",
   "metadata": {},
   "source": [
    "No change"
   ]
  },
  {
   "cell_type": "markdown",
   "id": "06a68d51",
   "metadata": {},
   "source": [
    "### Lander leg length?"
   ]
  },
  {
   "cell_type": "code",
   "execution_count": 2282,
   "id": "2bd3150a",
   "metadata": {},
   "outputs": [
    {
     "data": {
      "text/plain": [
       "<AxesSubplot:xlabel='success_landing', ylabel='lander_leg_length_m'>"
      ]
     },
     "execution_count": 2282,
     "metadata": {},
     "output_type": "execute_result"
    },
    {
     "data": {
      "image/png": "[encoded data removed]",
      "text/plain": [
       "<Figure size 432x288 with 1 Axes>"
      ]
     },
     "metadata": {},
     "output_type": "display_data"
    }
   ],
   "source": [
    "sns.boxplot(x=flights['success_landing'], y=flights['lander_leg_length_m'])"
   ]
  },
  {
   "cell_type": "markdown",
   "id": "11370bed",
   "metadata": {},
   "source": [
    "No difference"
   ]
  },
  {
   "cell_type": "markdown",
   "id": "a489a94f",
   "metadata": {},
   "source": [
    "### Parachute area?"
   ]
  },
  {
   "cell_type": "code",
   "execution_count": 2283,
   "id": "b2f93e5f",
   "metadata": {
    "scrolled": true
   },
   "outputs": [
    {
     "data": {
      "text/plain": [
       "<AxesSubplot:xlabel='success_landing', ylabel='parachute_area_m2'>"
      ]
     },
     "execution_count": 2283,
     "metadata": {},
     "output_type": "execute_result"
    },
    {
     "data": {
      "image/png": "[encoded data removed]",
      "text/plain": [
       "<Figure size 432x288 with 1 Axes>"
      ]
     },
     "metadata": {},
     "output_type": "display_data"
    }
   ],
   "source": [
    "sns.boxplot(x=flights['success_landing'], y=flights['parachute_area_m2']) "
   ]
  },
  {
   "cell_type": "markdown",
   "id": "faa40e1b",
   "metadata": {},
   "source": [
    "Is it me or is data science boring 98% of the time?"
   ]
  },
  {
   "cell_type": "markdown",
   "id": "b1c35c67",
   "metadata": {},
   "source": [
    "### Fuel consumption?"
   ]
  },
  {
   "cell_type": "code",
   "execution_count": 2284,
   "id": "40edb4a8",
   "metadata": {},
   "outputs": [
    {
     "data": {
      "text/plain": [
       "<AxesSubplot:xlabel='success_landing', ylabel='fuel_consumption_kg'>"
      ]
     },
     "execution_count": 2284,
     "metadata": {},
     "output_type": "execute_result"
    },
    {
     "data": {
      "image/png": "[encoded data removed]",
      "text/plain": [
       "<Figure size 432x288 with 1 Axes>"
      ]
     },
     "metadata": {},
     "output_type": "display_data"
    }
   ],
   "source": [
    "sns.boxplot(x=flights['success_landing'], y=flights['fuel_consumption_kg'])"
   ]
  },
  {
   "cell_type": "markdown",
   "id": "f574edd0",
   "metadata": {},
   "source": [
    "## One Hot Encoding for success_landing"
   ]
  },
  {
   "cell_type": "code",
   "execution_count": 2285,
   "id": "6a5c1912",
   "metadata": {
    "scrolled": false
   },
   "outputs": [
    {
     "data": {
      "text/html": [
       "<div>\n",
       "<style scoped>\n",
       "    .dataframe tbody tr th:only-of-type {\n",
       "        vertical-align: middle;\n",
       "    }\n",
       "\n",
       "    .dataframe tbody tr th {\n",
       "        vertical-align: top;\n",
       "    }\n",
       "\n",
       "    .dataframe thead th {\n",
       "        text-align: right;\n",
       "    }\n",
       "</style>\n",
       "<table border=\"1\" class=\"dataframe\">\n",
       "  <thead>\n",
       "    <tr style=\"text-align: right;\">\n",
       "      <th></th>\n",
       "      <th>ship_id</th>\n",
       "      <th>launch_year</th>\n",
       "      <th>mission_duration_days</th>\n",
       "      <th>distance_to_planet_km</th>\n",
       "      <th>planet_gravity_m_s2</th>\n",
       "      <th>landing_latitude</th>\n",
       "      <th>landing_longitude</th>\n",
       "      <th>initial_speed_m_s</th>\n",
       "      <th>final_speed_m_s</th>\n",
       "      <th>fuel_consumption_kg</th>\n",
       "      <th>...</th>\n",
       "      <th>energy_capacity_kWh</th>\n",
       "      <th>communication_frequency_GHz</th>\n",
       "      <th>max_altitude_km</th>\n",
       "      <th>parachute_count</th>\n",
       "      <th>parachute_area_m2</th>\n",
       "      <th>heat_shield_material_id</th>\n",
       "      <th>heat_shield_thickness_cm</th>\n",
       "      <th>lander_leg_count</th>\n",
       "      <th>lander_leg_length_m</th>\n",
       "      <th>success_landing_True</th>\n",
       "    </tr>\n",
       "  </thead>\n",
       "  <tbody>\n",
       "    <tr>\n",
       "      <th>0</th>\n",
       "      <td>52</td>\n",
       "      <td>2028</td>\n",
       "      <td>204</td>\n",
       "      <td>3.847606e+08</td>\n",
       "      <td>21.682092</td>\n",
       "      <td>22</td>\n",
       "      <td>-64</td>\n",
       "      <td>12692</td>\n",
       "      <td>385</td>\n",
       "      <td>4613</td>\n",
       "      <td>...</td>\n",
       "      <td>360</td>\n",
       "      <td>24</td>\n",
       "      <td>76</td>\n",
       "      <td>4</td>\n",
       "      <td>168</td>\n",
       "      <td>1</td>\n",
       "      <td>14</td>\n",
       "      <td>4</td>\n",
       "      <td>4</td>\n",
       "      <td>0</td>\n",
       "    </tr>\n",
       "    <tr>\n",
       "      <th>1</th>\n",
       "      <td>93</td>\n",
       "      <td>2022</td>\n",
       "      <td>435</td>\n",
       "      <td>1.827605e+08</td>\n",
       "      <td>1.961883</td>\n",
       "      <td>53</td>\n",
       "      <td>55</td>\n",
       "      <td>31646</td>\n",
       "      <td>35</td>\n",
       "      <td>3308</td>\n",
       "      <td>...</td>\n",
       "      <td>591</td>\n",
       "      <td>38</td>\n",
       "      <td>63</td>\n",
       "      <td>4</td>\n",
       "      <td>176</td>\n",
       "      <td>2</td>\n",
       "      <td>19</td>\n",
       "      <td>5</td>\n",
       "      <td>1</td>\n",
       "      <td>1</td>\n",
       "    </tr>\n",
       "    <tr>\n",
       "      <th>2</th>\n",
       "      <td>15</td>\n",
       "      <td>2025</td>\n",
       "      <td>81</td>\n",
       "      <td>3.582505e+07</td>\n",
       "      <td>13.132886</td>\n",
       "      <td>84</td>\n",
       "      <td>12</td>\n",
       "      <td>35836</td>\n",
       "      <td>163</td>\n",
       "      <td>5238</td>\n",
       "      <td>...</td>\n",
       "      <td>5396</td>\n",
       "      <td>33</td>\n",
       "      <td>134</td>\n",
       "      <td>2</td>\n",
       "      <td>34</td>\n",
       "      <td>3</td>\n",
       "      <td>18</td>\n",
       "      <td>3</td>\n",
       "      <td>3</td>\n",
       "      <td>1</td>\n",
       "    </tr>\n",
       "    <tr>\n",
       "      <th>3</th>\n",
       "      <td>72</td>\n",
       "      <td>2028</td>\n",
       "      <td>420</td>\n",
       "      <td>1.702923e+08</td>\n",
       "      <td>29.242663</td>\n",
       "      <td>-47</td>\n",
       "      <td>122</td>\n",
       "      <td>18525</td>\n",
       "      <td>118</td>\n",
       "      <td>1733</td>\n",
       "      <td>...</td>\n",
       "      <td>7628</td>\n",
       "      <td>30</td>\n",
       "      <td>142</td>\n",
       "      <td>4</td>\n",
       "      <td>190</td>\n",
       "      <td>9</td>\n",
       "      <td>3</td>\n",
       "      <td>4</td>\n",
       "      <td>3</td>\n",
       "      <td>1</td>\n",
       "    </tr>\n",
       "    <tr>\n",
       "      <th>4</th>\n",
       "      <td>61</td>\n",
       "      <td>2028</td>\n",
       "      <td>231</td>\n",
       "      <td>1.773798e+07</td>\n",
       "      <td>17.780109</td>\n",
       "      <td>71</td>\n",
       "      <td>-129</td>\n",
       "      <td>45515</td>\n",
       "      <td>313</td>\n",
       "      <td>667</td>\n",
       "      <td>...</td>\n",
       "      <td>8988</td>\n",
       "      <td>22</td>\n",
       "      <td>89</td>\n",
       "      <td>1</td>\n",
       "      <td>41</td>\n",
       "      <td>9</td>\n",
       "      <td>16</td>\n",
       "      <td>5</td>\n",
       "      <td>1</td>\n",
       "      <td>0</td>\n",
       "    </tr>\n",
       "  </tbody>\n",
       "</table>\n",
       "<p>5 rows × 25 columns</p>\n",
       "</div>"
      ],
      "text/plain": [
       "   ship_id  launch_year  mission_duration_days  distance_to_planet_km  \\\n",
       "0       52         2028                    204           3.847606e+08   \n",
       "1       93         2022                    435           1.827605e+08   \n",
       "2       15         2025                     81           3.582505e+07   \n",
       "3       72         2028                    420           1.702923e+08   \n",
       "4       61         2028                    231           1.773798e+07   \n",
       "\n",
       "   planet_gravity_m_s2  landing_latitude  landing_longitude  \\\n",
       "0            21.682092                22                -64   \n",
       "1             1.961883                53                 55   \n",
       "2            13.132886                84                 12   \n",
       "3            29.242663               -47                122   \n",
       "4            17.780109                71               -129   \n",
       "\n",
       "   initial_speed_m_s  final_speed_m_s  fuel_consumption_kg  ...  \\\n",
       "0              12692              385                 4613  ...   \n",
       "1              31646               35                 3308  ...   \n",
       "2              35836              163                 5238  ...   \n",
       "3              18525              118                 1733  ...   \n",
       "4              45515              313                  667  ...   \n",
       "\n",
       "   energy_capacity_kWh  communication_frequency_GHz  max_altitude_km  \\\n",
       "0                  360                           24               76   \n",
       "1                  591                           38               63   \n",
       "2                 5396                           33              134   \n",
       "3                 7628                           30              142   \n",
       "4                 8988                           22               89   \n",
       "\n",
       "   parachute_count  parachute_area_m2  heat_shield_material_id  \\\n",
       "0                4                168                        1   \n",
       "1                4                176                        2   \n",
       "2                2                 34                        3   \n",
       "3                4                190                        9   \n",
       "4                1                 41                        9   \n",
       "\n",
       "   heat_shield_thickness_cm  lander_leg_count  lander_leg_length_m  \\\n",
       "0                        14                 4                    4   \n",
       "1                        19                 5                    1   \n",
       "2                        18                 3                    3   \n",
       "3                         3                 4                    3   \n",
       "4                        16                 5                    1   \n",
       "\n",
       "   success_landing_True  \n",
       "0                     0  \n",
       "1                     1  \n",
       "2                     1  \n",
       "3                     1  \n",
       "4                     0  \n",
       "\n",
       "[5 rows x 25 columns]"
      ]
     },
     "execution_count": 2285,
     "metadata": {},
     "output_type": "execute_result"
    }
   ],
   "source": [
    "success_landing = pd.get_dummies(flights['success_landing'], drop_first=True, prefix=\"success_landing\")\n",
    "flights = flights.drop('success_landing', axis=1)\n",
    "flights = pd.concat([flights, success_landing], axis=1)\n",
    "flights.head(5)"
   ]
  },
  {
   "cell_type": "markdown",
   "id": "c3690b87",
   "metadata": {},
   "source": [
    "## Removing unnecessary data"
   ]
  },
  {
   "cell_type": "code",
   "execution_count": 2286,
   "id": "1077a7d6",
   "metadata": {},
   "outputs": [
    {
     "data": {
      "text/html": [
       "<div>\n",
       "<style scoped>\n",
       "    .dataframe tbody tr th:only-of-type {\n",
       "        vertical-align: middle;\n",
       "    }\n",
       "\n",
       "    .dataframe tbody tr th {\n",
       "        vertical-align: top;\n",
       "    }\n",
       "\n",
       "    .dataframe thead th {\n",
       "        text-align: right;\n",
       "    }\n",
       "</style>\n",
       "<table border=\"1\" class=\"dataframe\">\n",
       "  <thead>\n",
       "    <tr style=\"text-align: right;\">\n",
       "      <th></th>\n",
       "      <th>distance_to_planet_km</th>\n",
       "      <th>planet_gravity_m_s2</th>\n",
       "      <th>landing_longitude</th>\n",
       "      <th>final_speed_m_s</th>\n",
       "      <th>fuel_consumption_kg</th>\n",
       "      <th>crew_size</th>\n",
       "      <th>total_weight_kg</th>\n",
       "      <th>engine_thrust_N</th>\n",
       "      <th>engine_count</th>\n",
       "      <th>energy_capacity_kWh</th>\n",
       "      <th>max_altitude_km</th>\n",
       "      <th>parachute_count</th>\n",
       "      <th>parachute_area_m2</th>\n",
       "      <th>heat_shield_thickness_cm</th>\n",
       "      <th>lander_leg_count</th>\n",
       "      <th>lander_leg_length_m</th>\n",
       "      <th>success_landing_True</th>\n",
       "    </tr>\n",
       "  </thead>\n",
       "  <tbody>\n",
       "    <tr>\n",
       "      <th>0</th>\n",
       "      <td>3.847606e+08</td>\n",
       "      <td>21.682092</td>\n",
       "      <td>-64</td>\n",
       "      <td>385</td>\n",
       "      <td>4613</td>\n",
       "      <td>2</td>\n",
       "      <td>79100</td>\n",
       "      <td>8.459809e+05</td>\n",
       "      <td>4</td>\n",
       "      <td>360</td>\n",
       "      <td>76</td>\n",
       "      <td>4</td>\n",
       "      <td>168</td>\n",
       "      <td>14</td>\n",
       "      <td>4</td>\n",
       "      <td>4</td>\n",
       "      <td>0</td>\n",
       "    </tr>\n",
       "    <tr>\n",
       "      <th>1</th>\n",
       "      <td>1.827605e+08</td>\n",
       "      <td>1.961883</td>\n",
       "      <td>55</td>\n",
       "      <td>35</td>\n",
       "      <td>3308</td>\n",
       "      <td>4</td>\n",
       "      <td>53422</td>\n",
       "      <td>4.172740e+06</td>\n",
       "      <td>9</td>\n",
       "      <td>591</td>\n",
       "      <td>63</td>\n",
       "      <td>4</td>\n",
       "      <td>176</td>\n",
       "      <td>19</td>\n",
       "      <td>5</td>\n",
       "      <td>1</td>\n",
       "      <td>1</td>\n",
       "    </tr>\n",
       "    <tr>\n",
       "      <th>2</th>\n",
       "      <td>3.582505e+07</td>\n",
       "      <td>13.132886</td>\n",
       "      <td>12</td>\n",
       "      <td>163</td>\n",
       "      <td>5238</td>\n",
       "      <td>7</td>\n",
       "      <td>40268</td>\n",
       "      <td>4.143042e+06</td>\n",
       "      <td>1</td>\n",
       "      <td>5396</td>\n",
       "      <td>134</td>\n",
       "      <td>2</td>\n",
       "      <td>34</td>\n",
       "      <td>18</td>\n",
       "      <td>3</td>\n",
       "      <td>3</td>\n",
       "      <td>1</td>\n",
       "    </tr>\n",
       "    <tr>\n",
       "      <th>3</th>\n",
       "      <td>1.702923e+08</td>\n",
       "      <td>29.242663</td>\n",
       "      <td>122</td>\n",
       "      <td>118</td>\n",
       "      <td>1733</td>\n",
       "      <td>3</td>\n",
       "      <td>87943</td>\n",
       "      <td>9.618781e+05</td>\n",
       "      <td>2</td>\n",
       "      <td>7628</td>\n",
       "      <td>142</td>\n",
       "      <td>4</td>\n",
       "      <td>190</td>\n",
       "      <td>3</td>\n",
       "      <td>4</td>\n",
       "      <td>3</td>\n",
       "      <td>1</td>\n",
       "    </tr>\n",
       "    <tr>\n",
       "      <th>4</th>\n",
       "      <td>1.773798e+07</td>\n",
       "      <td>17.780109</td>\n",
       "      <td>-129</td>\n",
       "      <td>313</td>\n",
       "      <td>667</td>\n",
       "      <td>1</td>\n",
       "      <td>17810</td>\n",
       "      <td>1.902523e+06</td>\n",
       "      <td>1</td>\n",
       "      <td>8988</td>\n",
       "      <td>89</td>\n",
       "      <td>1</td>\n",
       "      <td>41</td>\n",
       "      <td>16</td>\n",
       "      <td>5</td>\n",
       "      <td>1</td>\n",
       "      <td>0</td>\n",
       "    </tr>\n",
       "  </tbody>\n",
       "</table>\n",
       "</div>"
      ],
      "text/plain": [
       "   distance_to_planet_km  planet_gravity_m_s2  landing_longitude  \\\n",
       "0           3.847606e+08            21.682092                -64   \n",
       "1           1.827605e+08             1.961883                 55   \n",
       "2           3.582505e+07            13.132886                 12   \n",
       "3           1.702923e+08            29.242663                122   \n",
       "4           1.773798e+07            17.780109               -129   \n",
       "\n",
       "   final_speed_m_s  fuel_consumption_kg  crew_size  total_weight_kg  \\\n",
       "0              385                 4613          2            79100   \n",
       "1               35                 3308          4            53422   \n",
       "2              163                 5238          7            40268   \n",
       "3              118                 1733          3            87943   \n",
       "4              313                  667          1            17810   \n",
       "\n",
       "   engine_thrust_N  engine_count  energy_capacity_kWh  max_altitude_km  \\\n",
       "0     8.459809e+05             4                  360               76   \n",
       "1     4.172740e+06             9                  591               63   \n",
       "2     4.143042e+06             1                 5396              134   \n",
       "3     9.618781e+05             2                 7628              142   \n",
       "4     1.902523e+06             1                 8988               89   \n",
       "\n",
       "   parachute_count  parachute_area_m2  heat_shield_thickness_cm  \\\n",
       "0                4                168                        14   \n",
       "1                4                176                        19   \n",
       "2                2                 34                        18   \n",
       "3                4                190                         3   \n",
       "4                1                 41                        16   \n",
       "\n",
       "   lander_leg_count  lander_leg_length_m  success_landing_True  \n",
       "0                 4                    4                     0  \n",
       "1                 5                    1                     1  \n",
       "2                 3                    3                     1  \n",
       "3                 4                    3                     1  \n",
       "4                 5                    1                     0  "
      ]
     },
     "execution_count": 2286,
     "metadata": {},
     "output_type": "execute_result"
    }
   ],
   "source": [
    "flights = flights.drop('ship_id', axis=1)\n",
    "flights = flights.drop('initial_speed_m_s', axis=1)\n",
    "flights = flights.drop('launch_year', axis=1)\n",
    "flights = flights.drop('solar_panels_count', axis=1)\n",
    "flights = flights.drop('heat_shield_material_id', axis=1)\n",
    "flights = flights.drop('mission_duration_days', axis=1)\n",
    "flights = flights.drop('communication_frequency_GHz', axis=1)\n",
    "flights = flights.drop('landing_latitude', axis=1)\n",
    "flights.head(5)\n"
   ]
  },
  {
   "cell_type": "markdown",
   "id": "842a72f2",
   "metadata": {},
   "source": [
    "## Test Train"
   ]
  },
  {
   "cell_type": "code",
   "execution_count": 2287,
   "id": "c5308b70",
   "metadata": {},
   "outputs": [],
   "source": [
    "y = flights['success_landing_True']\n",
    "x = flights.drop('success_landing_True', axis=1)"
   ]
  },
  {
   "cell_type": "code",
   "execution_count": 2288,
   "id": "66ea470d",
   "metadata": {},
   "outputs": [],
   "source": [
    "x_training_data, x_test_data, y_training_data, y_test_data = train_test_split(x, y)"
   ]
  },
  {
   "cell_type": "markdown",
   "id": "81fb19dd",
   "metadata": {},
   "source": [
    "## Train the model"
   ]
  },
  {
   "cell_type": "code",
   "execution_count": 2289,
   "id": "6349146e",
   "metadata": {},
   "outputs": [
    {
     "data": {
      "text/plain": [
       "LogisticRegression(class_weight='balanced')"
      ]
     },
     "execution_count": 2289,
     "metadata": {},
     "output_type": "execute_result"
    }
   ],
   "source": [
    "model = LogisticRegression(class_weight='balanced')\n",
    "model.fit(x_training_data, y_training_data)"
   ]
  },
  {
   "cell_type": "markdown",
   "id": "e1636692",
   "metadata": {},
   "source": [
    "## Predicting\n"
   ]
  },
  {
   "cell_type": "code",
   "execution_count": 2290,
   "id": "e19d24b7",
   "metadata": {},
   "outputs": [
    {
     "name": "stdout",
     "output_type": "stream",
     "text": [
      "              precision    recall  f1-score   support\n",
      "\n",
      "           0       0.36      0.38      0.37      5324\n",
      "           1       0.65      0.63      0.64      9676\n",
      "\n",
      "    accuracy                           0.54     15000\n",
      "   macro avg       0.50      0.50      0.50     15000\n",
      "weighted avg       0.55      0.54      0.54     15000\n",
      "\n"
     ]
    }
   ],
   "source": [
    "prediction = model.predict(x_test_data)\n",
    "\n",
    "print(classification_report(y_test_data, prediction))"
   ]
  }
 ],
 "metadata": {
  "kernelspec": {
   "display_name": "Python 3 (ipykernel)",
   "language": "python",
   "name": "python3"
  },
  "language_info": {
   "codemirror_mode": {
    "name": "ipython",
    "version": 3
   },
   "file_extension": ".py",
   "mimetype": "text/x-python",
   "name": "python",
   "nbconvert_exporter": "python",
   "pygments_lexer": "ipython3",
   "version": "3.9.7"
  }
 },
 "nbformat": 4,
 "nbformat_minor": 5
}
