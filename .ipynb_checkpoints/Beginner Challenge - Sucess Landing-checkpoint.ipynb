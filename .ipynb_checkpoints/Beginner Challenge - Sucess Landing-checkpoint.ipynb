{
 "cells": [
  {
   "cell_type": "markdown",
   "id": "7c0b1b19",
   "metadata": {},
   "source": [
    "# Space Mission Challenge - IEEE Hackathonn 2023\n",
    "## Pumping Lemma Submission \n",
    "\n",
    "The year is 2030, a team of space enthusiasts launched a mission to explorea distant planet in a far-off galaxy. \n",
    "\n",
    "The mission was a challenging one, and the team had to overcome several obstacles to make it a success.\n",
    "\n",
    "This event is about analyzing the data from the mission to determine its success rate and building ana utonomous system for the spaceship."
   ]
  },
  {
   "cell_type": "code",
   "execution_count": null,
   "id": "92ec0ad5",
   "metadata": {},
   "outputs": [],
   "source": []
  },
  {
   "cell_type": "code",
   "execution_count": null,
   "id": "62925b78",
   "metadata": {},
   "outputs": [],
   "source": []
  },
  {
   "cell_type": "code",
   "execution_count": null,
   "id": "4e04203d",
   "metadata": {},
   "outputs": [],
   "source": []
  }
 ],
 "metadata": {
  "kernelspec": {
   "display_name": "Python 3 (ipykernel)",
   "language": "python",
   "name": "python3"
  },
  "language_info": {
   "codemirror_mode": {
    "name": "ipython",
    "version": 3
   },
   "file_extension": ".py",
   "mimetype": "text/x-python",
   "name": "python",
   "nbconvert_exporter": "python",
   "pygments_lexer": "ipython3",
   "version": "3.9.7"
  }
 },
 "nbformat": 4,
 "nbformat_minor": 5
}
